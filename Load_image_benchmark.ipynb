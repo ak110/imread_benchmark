{
  "nbformat": 4,
  "nbformat_minor": 0,
  "metadata": {
    "colab": {
      "name": "Load_image_benchmark.ipynb",
      "provenance": [],
      "authorship_tag": "ABX9TyN3zdZVk4ocs7qoUS6vgoUn",
      "include_colab_link": true
    },
    "kernelspec": {
      "name": "python3",
      "display_name": "Python 3"
    }
  },
  "cells": [
    {
      "cell_type": "markdown",
      "metadata": {
        "id": "view-in-github",
        "colab_type": "text"
      },
      "source": [
        "<a href=\"https://colab.research.google.com/github/wakamezake/imread_benchmark/blob/master/Load_image_benchmark.ipynb\" target=\"_parent\"><img src=\"https://colab.research.google.com/assets/colab-badge.svg\" alt=\"Open In Colab\"/></a>"
      ]
    },
    {
      "cell_type": "code",
      "metadata": {
        "id": "bUtBtqwXSlU0",
        "colab_type": "code",
        "colab": {
          "base_uri": "https://localhost:8080/",
          "height": 34
        },
        "outputId": "d074a1a7-52f4-48fb-b9c6-fa027bf2c953"
      },
      "source": [
        "%tensorflow_version 2.x"
      ],
      "execution_count": 2,
      "outputs": [
        {
          "output_type": "stream",
          "text": [
            "TensorFlow 2.x selected.\n"
          ],
          "name": "stdout"
        }
      ]
    },
    {
      "cell_type": "code",
      "metadata": {
        "id": "8Q4zuIQBSwRk",
        "colab_type": "code",
        "colab": {
          "base_uri": "https://localhost:8080/",
          "height": 122
        },
        "outputId": "cb0d7583-e198-43d4-b480-f6b73e08c86e"
      },
      "source": [
        "!git clone https://github.com/wakamezake/imread_benchmark.git"
      ],
      "execution_count": 2,
      "outputs": [
        {
          "output_type": "stream",
          "text": [
            "Cloning into 'imread_benchmark'...\n",
            "remote: Enumerating objects: 15, done.\u001b[K\n",
            "remote: Counting objects: 100% (15/15), done.\u001b[K\n",
            "remote: Compressing objects: 100% (11/11), done.\u001b[K\n",
            "remote: Total 29 (delta 8), reused 11 (delta 4), pack-reused 14\u001b[K\n",
            "Unpacking objects: 100% (29/29), done.\n"
          ],
          "name": "stdout"
        }
      ]
    },
    {
      "cell_type": "code",
      "metadata": {
        "id": "7X5C3gXoTBz5",
        "colab_type": "code",
        "colab": {
          "base_uri": "https://localhost:8080/",
          "height": 351
        },
        "outputId": "4c803c77-96eb-483c-f095-488fd0c552ed"
      },
      "source": [
        "!python imread_benchmark/imread_benchmark.py"
      ],
      "execution_count": 3,
      "outputs": [
        {
          "output_type": "stream",
          "text": [
            "2020-03-23 09:17:18.200125: E tensorflow/stream_executor/cuda/cuda_driver.cc:351] failed call to cuInit: CUDA_ERROR_NO_DEVICE: no CUDA-capable device is detected\n",
            "================================ img.gif ================================\n",
            "imread_opencv  : 14.8[sec] (mean: 0.0493)[sec]\n",
            "imread_pillow  : 11.0[sec] (mean: 0.0366)[sec]\n",
            "imread_imageio : 62.4[sec] (mean: 0.2081)[sec]\n",
            "imread_skimage : 61.0[sec] (mean: 0.2034)[sec]\n",
            "imread_tf      : 12.7[sec] (mean: 0.0425)[sec]\n",
            "================================ img.png ================================\n",
            "imread_opencv  : 22.7[sec] (mean: 0.0755)[sec]\n",
            "imread_pillow  : 18.5[sec] (mean: 0.0616)[sec]\n",
            "imread_imageio : 18.9[sec] (mean: 0.0631)[sec]\n",
            "imread_skimage : 18.9[sec] (mean: 0.0631)[sec]\n",
            "imread_tf      : 19.4[sec] (mean: 0.0645)[sec]\n",
            "================================ img.jpg ================================\n",
            "imread_opencv  : 20.8[sec] (mean: 0.0693)[sec]\n",
            "imread_pillow  : 19.1[sec] (mean: 0.0638)[sec]\n",
            "imread_imageio : 19.6[sec] (mean: 0.0652)[sec]\n",
            "imread_skimage : 19.7[sec] (mean: 0.0656)[sec]\n",
            "imread_tf      : 10.3[sec] (mean: 0.0342)[sec]\n"
          ],
          "name": "stdout"
        }
      ]
    },
    {
      "cell_type": "code",
      "metadata": {
        "id": "PK5JtbEiWHBg",
        "colab_type": "code",
        "colab": {
          "base_uri": "https://localhost:8080/",
          "height": 320
        },
        "outputId": "163366b4-c732-40c2-9ded-72ac9e6e911d"
      },
      "source": [
        "!pip uninstall -y pillow\n",
        "!pip install pillow-simd"
      ],
      "execution_count": 4,
      "outputs": [
        {
          "output_type": "stream",
          "text": [
            "Uninstalling Pillow-7.0.0:\n",
            "  Successfully uninstalled Pillow-7.0.0\n",
            "Collecting pillow-simd\n",
            "\u001b[?25l  Downloading https://files.pythonhosted.org/packages/a0/6a/30d21c886293cca3755b8e55de34137a5068b77eba1c0644d3632080516b/Pillow-SIMD-7.0.0.post3.tar.gz (630kB)\n",
            "\u001b[K     |████████████████████████████████| 634kB 2.5MB/s \n",
            "\u001b[?25hBuilding wheels for collected packages: pillow-simd\n",
            "  Building wheel for pillow-simd (setup.py) ... \u001b[?25l\u001b[?25hdone\n",
            "  Created wheel for pillow-simd: filename=Pillow_SIMD-7.0.0.post3-cp36-cp36m-linux_x86_64.whl size=1110372 sha256=ade35b46c78cebfda903c9de91b6dfe8b9b614d999be6fa7ffe01bc1c6c4df77\n",
            "  Stored in directory: /root/.cache/pip/wheels/d3/ac/4f/4cdf8febba528e5f1b09fc58d5181e1c12ed1e8655dcd583b8\n",
            "Successfully built pillow-simd\n",
            "Installing collected packages: pillow-simd\n",
            "Successfully installed pillow-simd-7.0.0.post3\n"
          ],
          "name": "stdout"
        },
        {
          "output_type": "display_data",
          "data": {
            "application/vnd.colab-display-data+json": {
              "pip_warning": {
                "packages": [
                  "PIL"
                ]
              }
            }
          },
          "metadata": {
            "tags": []
          }
        }
      ]
    },
    {
      "cell_type": "code",
      "metadata": {
        "id": "d_ErGshaW8Dz",
        "colab_type": "code",
        "colab": {
          "base_uri": "https://localhost:8080/",
          "height": 351
        },
        "outputId": "10f01827-785e-4b35-ed25-0640a348afaa"
      },
      "source": [
        "%tensorflow_version 2.x\n",
        "!python imread_benchmark/imread_benchmark.py"
      ],
      "execution_count": 3,
      "outputs": [
        {
          "output_type": "stream",
          "text": [
            "2020-03-23 09:24:33.261251: E tensorflow/stream_executor/cuda/cuda_driver.cc:351] failed call to cuInit: CUDA_ERROR_NO_DEVICE: no CUDA-capable device is detected\n",
            "================================ img.gif ================================\n",
            "imread_opencv  : 14.7[sec] (mean: 0.0489)[sec]\n",
            "imread_pillow  : 11.5[sec] (mean: 0.0385)[sec]\n",
            "imread_imageio : 60.3[sec] (mean: 0.2011)[sec]\n",
            "imread_skimage : 59.5[sec] (mean: 0.1984)[sec]\n",
            "imread_tf      : 12.8[sec] (mean: 0.0428)[sec]\n",
            "================================ img.png ================================\n",
            "imread_opencv  : 22.7[sec] (mean: 0.0757)[sec]\n",
            "imread_pillow  : 18.4[sec] (mean: 0.0612)[sec]\n",
            "imread_imageio : 18.6[sec] (mean: 0.0621)[sec]\n",
            "imread_skimage : 18.6[sec] (mean: 0.0621)[sec]\n",
            "imread_tf      : 19.4[sec] (mean: 0.0645)[sec]\n",
            "================================ img.jpg ================================\n",
            "imread_opencv  : 20.8[sec] (mean: 0.0695)[sec]\n",
            "imread_pillow  : 12.9[sec] (mean: 0.0432)[sec]\n",
            "imread_imageio : 13.2[sec] (mean: 0.0440)[sec]\n",
            "imread_skimage : 13.2[sec] (mean: 0.0441)[sec]\n",
            "imread_tf      : 10.4[sec] (mean: 0.0346)[sec]\n"
          ],
          "name": "stdout"
        }
      ]
    },
    {
      "cell_type": "code",
      "metadata": {
        "id": "bN_kX93ZtK7f",
        "colab_type": "code",
        "colab": {}
      },
      "source": [
        ""
      ],
      "execution_count": 0,
      "outputs": []
    }
  ]
}